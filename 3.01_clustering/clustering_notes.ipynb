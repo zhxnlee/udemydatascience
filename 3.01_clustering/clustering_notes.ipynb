{
 "cells": [
  {
   "cell_type": "markdown",
   "metadata": {},
   "source": [
    "### Cluster Analysis"
   ]
  },
  {
   "cell_type": "markdown",
   "metadata": {},
   "source": [
    "**Final goal:** The goal of clustering is to maximize the similarity of observations within a cluster and maximize the dissimilarity between clusters"
   ]
  },
  {
   "cell_type": "markdown",
   "metadata": {},
   "source": [
    "**Euclidean distance:** sqrt((x2-x1)^2 + (y2-y1)^2)"
   ]
  },
  {
   "cell_type": "markdown",
   "metadata": {},
   "source": [
    "**K-means clustering**:\n",
    "\n",
    "1. Choose the number of clusters\n",
    "\n",
    "2. Specify the cluster seeds\n",
    "\n",
    "3. Assign each point to a centroid\n",
    "\n",
    "4. Adjust the centroids"
   ]
  },
  {
   "cell_type": "markdown",
   "metadata": {},
   "source": [
    "**WCSS**: within-cluster sum of squares\n",
    "\n",
    "if we minimize WCSS, we have reached the perfect clustering solution"
   ]
  },
  {
   "cell_type": "markdown",
   "metadata": {},
   "source": [
    "**WCSS**\n",
    "\n",
    "observations: 1,000,000\n",
    "clusters: 1,000,000\n",
    "WCSS = 0 = min\n",
    "\n",
    "observations: 1,000,000\n",
    "clusters: 1\n",
    "WCSS = max\n",
    "\n",
    "\n",
    "must have a middle ground:\n",
    "\n",
    "observations: N\n",
    "clusters: Small \n",
    "WCSS = LOW\n"
   ]
  },
  {
   "cell_type": "markdown",
   "metadata": {},
   "source": [
    "## Pros and Cons\n",
    "\n",
    "**Pros:**\n",
    "1. Simple to understand\n",
    "\n",
    "2. Fast to cluster\n",
    "\n",
    "3. widely available\n",
    "\n",
    "4. Easy to implement\n",
    "\n",
    "5. Always yields a result\n",
    "\n",
    "\n",
    "**Cons:**\n",
    "1. We need to pick K (Elbow method can help pick that)\n",
    "\n",
    "2. Sensitive to initialization (have to pick a random intial seed) \n",
    "Solution: (k-means ++ can help)\n",
    "\n",
    "3. Sensitive to outliers (if too far, it will put that as its own cluster) \n",
    "Solution: Remove outliers\n",
    "\n",
    "4. Produces spherical solutions \n",
    "\n",
    "\n",
    "\n"
   ]
  },
  {
   "cell_type": "markdown",
   "metadata": {},
   "source": [
    "**Standardize or Not?**"
   ]
  }
 ],
 "metadata": {
  "language_info": {
   "name": "python"
  }
 },
 "nbformat": 4,
 "nbformat_minor": 2
}
